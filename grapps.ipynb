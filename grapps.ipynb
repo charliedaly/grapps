{
 "cells": [
  {
   "cell_type": "code",
   "execution_count": 1,
   "id": "bba0870c-69de-446e-9ae9-278ff77218ae",
   "metadata": {},
   "outputs": [],
   "source": [
    "%load_ext autoreload\n",
    "%autoreload 2"
   ]
  },
  {
   "cell_type": "code",
   "execution_count": 2,
   "id": "10fec823-df63-495c-9ec3-30942d64646f",
   "metadata": {
    "scrolled": true
   },
   "outputs": [
    {
     "data": {
      "text/html": [
       "<div style=\"width:100%;\"><div style=\"position:relative;width:100%;height:0;padding-bottom:60%;\"><span style=\"color:#565656\">Make this Notebook Trusted to load map: File -> Trust Notebook</span><iframe srcdoc=\"&lt;!DOCTYPE html&gt;\n",
       "&lt;html&gt;\n",
       "&lt;head&gt;\n",
       "    \n",
       "    &lt;meta http-equiv=&quot;content-type&quot; content=&quot;text/html; charset=UTF-8&quot; /&gt;\n",
       "    \n",
       "        &lt;script&gt;\n",
       "            L_NO_TOUCH = false;\n",
       "            L_DISABLE_3D = false;\n",
       "        &lt;/script&gt;\n",
       "    \n",
       "    &lt;style&gt;html, body {width: 100%;height: 100%;margin: 0;padding: 0;}&lt;/style&gt;\n",
       "    &lt;style&gt;#map {position:absolute;top:0;bottom:0;right:0;left:0;}&lt;/style&gt;\n",
       "    &lt;script src=&quot;https://cdn.jsdelivr.net/npm/leaflet@1.9.3/dist/leaflet.js&quot;&gt;&lt;/script&gt;\n",
       "    &lt;script src=&quot;https://code.jquery.com/jquery-3.7.1.min.js&quot;&gt;&lt;/script&gt;\n",
       "    &lt;script src=&quot;https://cdn.jsdelivr.net/npm/bootstrap@5.2.2/dist/js/bootstrap.bundle.min.js&quot;&gt;&lt;/script&gt;\n",
       "    &lt;script src=&quot;https://cdnjs.cloudflare.com/ajax/libs/Leaflet.awesome-markers/2.0.2/leaflet.awesome-markers.js&quot;&gt;&lt;/script&gt;\n",
       "    &lt;link rel=&quot;stylesheet&quot; href=&quot;https://cdn.jsdelivr.net/npm/leaflet@1.9.3/dist/leaflet.css&quot;/&gt;\n",
       "    &lt;link rel=&quot;stylesheet&quot; href=&quot;https://cdn.jsdelivr.net/npm/bootstrap@5.2.2/dist/css/bootstrap.min.css&quot;/&gt;\n",
       "    &lt;link rel=&quot;stylesheet&quot; href=&quot;https://netdna.bootstrapcdn.com/bootstrap/3.0.0/css/bootstrap-glyphicons.css&quot;/&gt;\n",
       "    &lt;link rel=&quot;stylesheet&quot; href=&quot;https://cdn.jsdelivr.net/npm/@fortawesome/fontawesome-free@6.2.0/css/all.min.css&quot;/&gt;\n",
       "    &lt;link rel=&quot;stylesheet&quot; href=&quot;https://cdnjs.cloudflare.com/ajax/libs/Leaflet.awesome-markers/2.0.2/leaflet.awesome-markers.css&quot;/&gt;\n",
       "    &lt;link rel=&quot;stylesheet&quot; href=&quot;https://cdn.jsdelivr.net/gh/python-visualization/folium/folium/templates/leaflet.awesome.rotate.min.css&quot;/&gt;\n",
       "    \n",
       "            &lt;meta name=&quot;viewport&quot; content=&quot;width=device-width,\n",
       "                initial-scale=1.0, maximum-scale=1.0, user-scalable=no&quot; /&gt;\n",
       "            &lt;style&gt;\n",
       "                #map_bb1d314e7f64fffed060e5a3ed35b4ec {\n",
       "                    position: relative;\n",
       "                    width: 100.0%;\n",
       "                    height: 100.0%;\n",
       "                    left: 0.0%;\n",
       "                    top: 0.0%;\n",
       "                }\n",
       "                .leaflet-container { font-size: 1rem; }\n",
       "            &lt;/style&gt;\n",
       "        \n",
       "&lt;/head&gt;\n",
       "&lt;body&gt;\n",
       "    \n",
       "    \n",
       "            &lt;div class=&quot;folium-map&quot; id=&quot;map_bb1d314e7f64fffed060e5a3ed35b4ec&quot; &gt;&lt;/div&gt;\n",
       "        \n",
       "&lt;/body&gt;\n",
       "&lt;script&gt;\n",
       "    \n",
       "    \n",
       "            var map_bb1d314e7f64fffed060e5a3ed35b4ec = L.map(\n",
       "                &quot;map_bb1d314e7f64fffed060e5a3ed35b4ec&quot;,\n",
       "                {\n",
       "                    center: [51.899, -8.47],\n",
       "                    crs: L.CRS.EPSG3857,\n",
       "                    zoom: 16,\n",
       "                    zoomControl: true,\n",
       "                    preferCanvas: false,\n",
       "                }\n",
       "            );\n",
       "\n",
       "            \n",
       "\n",
       "        \n",
       "    \n",
       "            var tile_layer_c4fe8d176c1e785a496785f9636dcfda = L.tileLayer(\n",
       "                &quot;https://tile.openstreetmap.org/{z}/{x}/{y}.png&quot;,\n",
       "                {&quot;attribution&quot;: &quot;\\u0026copy; \\u003ca href=\\&quot;https://www.openstreetmap.org/copyright\\&quot;\\u003eOpenStreetMap\\u003c/a\\u003e contributors&quot;, &quot;detectRetina&quot;: false, &quot;maxNativeZoom&quot;: 19, &quot;maxZoom&quot;: 19, &quot;minZoom&quot;: 0, &quot;noWrap&quot;: false, &quot;opacity&quot;: 1, &quot;subdomains&quot;: &quot;abc&quot;, &quot;tms&quot;: false}\n",
       "            );\n",
       "        \n",
       "    \n",
       "            tile_layer_c4fe8d176c1e785a496785f9636dcfda.addTo(map_bb1d314e7f64fffed060e5a3ed35b4ec);\n",
       "        \n",
       "    \n",
       "            var tile_layer_360c7a7a1a9d5470e28ff68296c4a296 = L.tileLayer(\n",
       "                &quot;http://127.0.0.1:9090/{z}/{x}/{y}.png&quot;,\n",
       "                {&quot;attribution&quot;: &quot;Charlie Daly via UCD and QGIS&quot;, &quot;detectRetina&quot;: false, &quot;maxZoom&quot;: 18, &quot;minZoom&quot;: 0, &quot;noWrap&quot;: false, &quot;opacity&quot;: 1, &quot;subdomains&quot;: &quot;abc&quot;, &quot;tms&quot;: false}\n",
       "            );\n",
       "        \n",
       "    \n",
       "            tile_layer_360c7a7a1a9d5470e28ff68296c4a296.addTo(map_bb1d314e7f64fffed060e5a3ed35b4ec);\n",
       "        \n",
       "    \n",
       "            var layer_control_99e44b752b3f2fa0fb558b96be09cfb9_layers = {\n",
       "                base_layers : {\n",
       "                    &quot;openstreetmap&quot; : tile_layer_c4fe8d176c1e785a496785f9636dcfda,\n",
       "                    &quot;http://127.0.0.1:9090/{z}/{x}/{y}.png&quot; : tile_layer_360c7a7a1a9d5470e28ff68296c4a296,\n",
       "                },\n",
       "                overlays :  {\n",
       "                },\n",
       "            };\n",
       "            let layer_control_99e44b752b3f2fa0fb558b96be09cfb9 = L.control.layers(\n",
       "                layer_control_99e44b752b3f2fa0fb558b96be09cfb9_layers.base_layers,\n",
       "                layer_control_99e44b752b3f2fa0fb558b96be09cfb9_layers.overlays,\n",
       "                {&quot;autoZIndex&quot;: true, &quot;collapsed&quot;: true, &quot;position&quot;: &quot;topright&quot;}\n",
       "            ).addTo(map_bb1d314e7f64fffed060e5a3ed35b4ec);\n",
       "\n",
       "        \n",
       "&lt;/script&gt;\n",
       "&lt;/html&gt;\" style=\"position:absolute;width:100%;height:100%;left:0;top:0;border:none !important;\" allowfullscreen webkitallowfullscreen mozallowfullscreen></iframe></div></div>"
      ],
      "text/plain": [
       "<folium.folium.Map at 0x72abdbf62ef0>"
      ]
     },
     "execution_count": 2,
     "metadata": {},
     "output_type": "execute_result"
    }
   ],
   "source": [
    "\n",
    "import folium\n",
    "\n",
    "m = folium.Map(location=(51.899, -8.47), zoom_start = 16)\n",
    "\n",
    "tileset = 'http://127.0.0.1:9090/{z}/{x}/{y}.png'\n",
    "#folium.TileLayer('openstreetmap').add_to(m)\n",
    "folium.TileLayer(tiles = tileset, attr = \"Charlie Daly via UCD and QGIS\").add_to(m)\n",
    "#folium.TileLayer('MapQuest Open Aerial').add_to(m)\n",
    "\n",
    "folium.LayerControl().add_to(m)\n",
    "\n",
    "m\n"
   ]
  },
  {
   "cell_type": "code",
   "execution_count": 4,
   "id": "91ac034d-ed5e-4c66-83a1-92b9c66e118a",
   "metadata": {},
   "outputs": [
    {
     "name": "stdout",
     "output_type": "stream",
     "text": [
      "c459702b4342c5d3495\n"
     ]
    }
   ],
   "source": [
    "from grappsdb import GrappsDB\n",
    "\n",
    "grapps_db = GrappsDB(\"http://localhost\", \"cd\", \"cd\")\n",
    "\n",
    "for e in grapps_db.events:\n",
    "    if len(e.note_list) > 0:\n",
    "        for n in e.note_list:\n",
    "            print(n)\n",
    "        break"
   ]
  },
  {
   "cell_type": "code",
   "execution_count": 1,
   "id": "8623a143-10b6-4fd0-9d84-c01fd69d998b",
   "metadata": {},
   "outputs": [],
   "source": [
    "from grappsdb import GrappsDB\n",
    "\n",
    "grapps_db = GrappsDB(\"http://localhost\", \"cd\", \"cd\")\n"
   ]
  },
  {
   "cell_type": "code",
   "execution_count": 2,
   "id": "7217b8bb-4081-4c47-8987-0c3c62888fdc",
   "metadata": {},
   "outputs": [
    {
     "name": "stdout",
     "output_type": "stream",
     "text": [
      "{'attribute_list': [], 'change': 1339093467, 'citation_list': [], 'date': <grappsdb.DateD object at 0x7a2b62593b50>, 'description': '', 'gramps_id': 'E1117', 'handle': 'c2dd1e77cf71eed880e', 'media_list': [{'attribute_list': [], 'citation_list': [], 'note_list': [], 'private': False, 'rect': [], 'ref': 'c2dd08feb2637936e95'}], 'note_list': [], 'place': '', 'private': False, 'tag_list': [], 'type': 'Death'}\n"
     ]
    }
   ],
   "source": [
    "p = grapps_db.people[1]\n",
    "event_ref = p.web_api.event_ref_list[0].ref\n",
    "event = grapps_db.events_dict[event_ref]\n",
    "\n",
    "for p in grapps_db.people:\n",
    "    if p.get_handle() == 'c2dd1e77cf71eed880e':\n",
    "        print(p.web_api.__dict__)\n",
    "        break\n",
    "for e in grapps_db.events:\n",
    "    if e.get_handle() == 'c2dd1e77cf71eed880e':\n",
    "        print(e.web_api.__dict__)\n",
    "        break\n",
    "for p in grapps_db.places:\n",
    "    if p.get_handle() == 'c2dd1e77cf71eed880e':\n",
    "        print(p.web_api.__dict__)\n",
    "        break"
   ]
  },
  {
   "cell_type": "code",
   "execution_count": 19,
   "id": "11cdf69a-547b-4076-8f4a-ac4019b00889",
   "metadata": {},
   "outputs": [
    {
     "name": "stdout",
     "output_type": "stream",
     "text": [
      "[{'attribute_list': [], 'citation_list': [], 'note_list': [], 'private': False, 'ref': 'bfbdbe94c124ca9026b3ec09f44', 'role': 'Primary'}, {'attribute_list': [], 'citation_list': [], 'note_list': [], 'private': False, 'ref': 'f9a5234072039c8f3a70d91608e', 'role': 'Primary'}]\n",
      "\n",
      "<__main__.EventRef object at 0x76109e6eceb0>\n",
      "<__main__.EventRef object at 0x76109e6d2320>\n"
     ]
    }
   ],
   "source": [
    "class EventRef:\n",
    "    pass\n",
    "import jsons\n",
    "for p in grapps_db.people:\n",
    "    if p.primary_name.first_name == 'Charlie' and p.primary_name.surname_list[0].surname == 'Daly':\n",
    "        print(p.event_ref_list)\n",
    "        print()\n",
    "        events = []\n",
    "        for e in p.event_ref_list:\n",
    "            events.append(jsons.load(e, EventRef))\n",
    "        for e in events:\n",
    "            print(e)\n",
    "        break\n",
    "       "
   ]
  },
  {
   "cell_type": "code",
   "execution_count": 4,
   "id": "01bc8ee5-7b6e-46ed-91c8-06178da230f0",
   "metadata": {},
   "outputs": [
    {
     "data": {
      "text/plain": [
       "{'attribute_list': [],\n",
       " 'change': 1339093467,\n",
       " 'citation_list': [],\n",
       " 'date': <grappsdb.DateD at 0x78faa2fabb50>,\n",
       " 'description': '',\n",
       " 'gramps_id': 'E1117',\n",
       " 'handle': 'c2dd1e77cf71eed880e',\n",
       " 'media_list': [{'attribute_list': [],\n",
       "   'citation_list': [],\n",
       "   'note_list': [],\n",
       "   'private': False,\n",
       "   'rect': [],\n",
       "   'ref': 'c2dd08feb2637936e95'}],\n",
       " 'note_list': [],\n",
       " 'place': '',\n",
       " 'private': False,\n",
       " 'tag_list': [],\n",
       " 'type': 'Death'}"
      ]
     },
     "execution_count": 4,
     "metadata": {},
     "output_type": "execute_result"
    }
   ],
   "source": [
    "grapps_db.events_dict['c2dd1e77cf71eed880e'].web_api.__dict__"
   ]
  },
  {
   "cell_type": "code",
   "execution_count": null,
   "id": "5e5b9510-8f9d-4bb8-a13c-946d182581fb",
   "metadata": {},
   "outputs": [],
   "source": []
  }
 ],
 "metadata": {
  "kernelspec": {
   "display_name": "Python 3 (ipykernel)",
   "language": "python",
   "name": "python3"
  },
  "language_info": {
   "codemirror_mode": {
    "name": "ipython",
    "version": 3
   },
   "file_extension": ".py",
   "mimetype": "text/x-python",
   "name": "python",
   "nbconvert_exporter": "python",
   "pygments_lexer": "ipython3",
   "version": "3.10.12"
  }
 },
 "nbformat": 4,
 "nbformat_minor": 5
}
